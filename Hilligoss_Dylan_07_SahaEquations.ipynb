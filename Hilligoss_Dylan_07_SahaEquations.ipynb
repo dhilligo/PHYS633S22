{
  "cells": [
    {
      "cell_type": "markdown",
      "metadata": {
        "id": "PVRTD9LbAjQb"
      },
      "source": [
        "# <font color=\"Red\">07-SahaEquations</font> "
      ]
    },
    {
      "cell_type": "markdown",
      "metadata": {
        "id": "sGhT_EDgAjQg"
      },
      "source": [
        "We start by importing the modules\n",
        "* Numpy -- operations on arrays and matrixes (and pi)\n",
        "* Matplotlib pyplot -- plotting library\n",
        "* Astropy units -- defined quantities with units. We also import the CDS conversions"
      ]
    },
    {
      "cell_type": "code",
      "execution_count": 1,
      "metadata": {
        "id": "1Yg3RqasAjQg",
        "outputId": "f513994d-7cb0-43db-eede-5013eabb96e6",
        "colab": {
          "base_uri": "https://localhost:8080/"
        }
      },
      "outputs": [
        {
          "output_type": "execute_result",
          "data": {
            "text/plain": [
              "<astropy.units.core._UnitContext at 0x7fdcd10ee6d0>"
            ]
          },
          "metadata": {},
          "execution_count": 1
        }
      ],
      "source": [
        "import numpy as np\n",
        "\n",
        "import matplotlib.pyplot as plt\n",
        "%matplotlib inline \n",
        "from astropy import constants as const\n",
        "import astropy.units as u\n",
        "from astropy.units import cds\n",
        "cds.enable() "
      ]
    },
    {
      "cell_type": "markdown",
      "metadata": {
        "id": "nM8Felk9AjQj"
      },
      "source": [
        "## 0. Some functions that we will need later on.\n",
        "\n",
        "`U = partition_H(T, smax=1)` will return the partition function for neutral hydrogen (H$^o$) for a given array of temparature $T$, truncating the summation to the energy level $s_\\mathrm{max}$.\n",
        "\n",
        "`newE, x_i = trial_saha(E, T, Ptot, X=0.75, Y=0.25)` will solve for the relative concentration $X_i$ of a given ion in a mixture of H and H, for a guessed value of $E=n_e/n_\\mathrm{ion}$. It will also calculate the expected value of $E$ given the calculted $x_i$ with the help of equation #3 (in the slides) -- if it is different than the input value for $E$, it means that your guess was incorrect. "
      ]
    },
    {
      "cell_type": "markdown",
      "source": [
        "### a. The partition function for neutral hydrogen is given by:\n",
        "\n",
        "\\begin{equation}\n",
        "u(T) = \\sum_{s=1}^\\infty 2s^2 e^{-E_s / kT}\n",
        "\\end{equation}\n",
        "where\n",
        "\\begin{equation}\n",
        "E_s = 13.6 \\mathrm{eV} \\left( 1-\\frac{1}{s^2}\\right).\n",
        "\\end{equation}\n",
        "\n",
        "However, because of interaction with other atoms, the sum has to be truncated to a certain maximum energy level $s_\\mathrm{max}$."
      ],
      "metadata": {
        "id": "0Sv7CZdoBGk-"
      }
    },
    {
      "cell_type": "code",
      "execution_count": 2,
      "metadata": {
        "id": "X4w_m9o2AjQj",
        "outputId": "ad684bab-7425-4ce9-c13d-3ed00ceb9230",
        "colab": {
          "base_uri": "https://localhost:8080/"
        }
      },
      "outputs": [
        {
          "output_type": "stream",
          "name": "stdout",
          "text": [
            "[2. 2. 2.]\n",
            "[  2.           2.00024106 450.48217529]\n"
          ]
        }
      ],
      "source": [
        "# Function definition, accept an array of temperatures\n",
        "# and an optional keyword to truncate the partition function\n",
        "\n",
        "def partition_H(T, smax=1):\n",
        "  '''Calculate the partition function for hydrogen\n",
        "\n",
        "  Args:\n",
        "      T: an array of temperatures in astropy unit.Kelvin\n",
        "\n",
        "  Keywords:\n",
        "      smax: level at which to truncate the summation (smax=1)\n",
        "\n",
        "   Returns:\n",
        "      The partition function for neutral hydrogen\n",
        "  '''\n",
        "\n",
        "  # C1 is 13.6 eV / k, in Kelvins\n",
        "  C1 = 157821.462518 * u.K\n",
        "    \n",
        "  sum = np.zeros(T.size) # initialize the sum (as an array if necessary)\n",
        "  for s in range(1,smax+1):\n",
        "    sum = sum + s**2 * np.exp(C1/T/s**2)\n",
        "        \n",
        "  return sum*2*np.exp(-1*C1/T)\n",
        "\n",
        "# Test the function\n",
        "\n",
        "T = np.array([5000.0, 8000.0, 30000.0]) * u.K\n",
        "\n",
        "print( partition_H(T, smax=1) )\n",
        "print( partition_H(T, smax=50) )"
      ]
    },
    {
      "cell_type": "markdown",
      "source": [
        "### b. A function to calculate the ionization fractions for a certain $E$.\n",
        "\n",
        "Below, I provide a function that solve for the ion fraction \n",
        "$x_{H}^{o}, x_{H}^{+}, x_{He}^{o}, x_{He}^{+}, x_{H}^{++}$ for a given $E$, <br>\n",
        "using a numpy function that solve a linear system of equation such that:<br>\n",
        "$M \\cdot x=b$.\n",
        "\n",
        "The function also return the $E$ value that would correspond to this solution:<br>\n",
        "$$ E = \\mu_\\mathrm{ion} \\left[X x_{H}^{+} + \\frac{Y}{4} (x_{He}^{+} + 2 x_{H}^{++} ) \\right],$$\n",
        "where $X$ and $Y$ are the mass fraction of H and He, respectively. \n",
        "\n",
        "In order to find the right solution, one must change the input value of $E$ until the function\n",
        "returns the same value. "
      ],
      "metadata": {
        "id": "IERS54rID0Xn"
      }
    },
    {
      "cell_type": "code",
      "source": [
        "# Calculate the numerical value of the constant in the equations\n",
        "#print( ( 13.6 * u.eV / const.k_B ).decompose() )\n",
        "#print( ( 24.5874 * u.eV / const.k_B ).decompose() ) # Ionization of He1\n",
        "#print( ( 54.4177 * u.eV / const.k_B ).decompose() ) # Ionization of He2\n",
        "\n",
        "def trial_saha(E, T, Ptot, X=0.75, Y=0.25):\n",
        "    # X and Y are the mass fraction of H and He.    \n",
        "        \n",
        "    # Define the constants in the equations directly, to save some \n",
        "    # computation time\n",
        "    CH = 157821.462518 * u.K\n",
        "    CHe = 285324.957906 * u.K\n",
        "    CHe2 = 631491.250064 * u.K\n",
        "    # Using tabulated partition function for low smax (high pressure)\n",
        "    # of course, calculations would be more complex for a \n",
        "    # self-consitent solution.\n",
        "    uH0 = 2.0\n",
        "    uH1 = 1.0\n",
        "    uHe0 = 1.0\n",
        "    uHe1 = 2.0\n",
        "    uHe2 = 1.0\n",
        "    \n",
        "    C2 = 0.666765791503 * u.Ba / u.K**2.5\n",
        "    \n",
        "    # Here, we define the matrix of coefficient as shown in class. \n",
        "    # First index is the row, second index is the column.\n",
        "    Coef_Mat = np.zeros((5,5))\n",
        "    Coef_Mat[0,0] = -1*T**2.5 * C2 / Ptot *uH0/uH1 *np.exp(-1*CH/T)\n",
        "    Coef_Mat[0,1] = E/(E+1)\n",
        "    Coef_Mat[1,0] = 1.0\n",
        "    Coef_Mat[1,1] = 1.0\n",
        "    Coef_Mat[2,2] = -1*T**2.5 * C2 / Ptot *uHe0/uHe1 *np.exp(-1*CHe/T)\n",
        "    Coef_Mat[2,3] = E/(E+1)\n",
        "    Coef_Mat[3,3] = -1*T**2.5 * C2 / Ptot *uHe1/uHe2 *np.exp(-1*CHe2/T)\n",
        "    Coef_Mat[3,4] = E/(E+1)\n",
        "    Coef_Mat[4,2] = 1\n",
        "    Coef_Mat[4,3] = 1\n",
        "    Coef_Mat[4,4] = 1\n",
        "    \n",
        "    # Here, we define the b array\n",
        "    b = np.array([0,1,0,0,1])\n",
        "    \n",
        "    # Using the numpy solve function, we find x such that M * x = b\n",
        "    sol = np.linalg.solve(Coef_Mat,b)\n",
        "    \n",
        "    # Now we use solution to calculate E with our unused equation\n",
        "    # If E_check is not the same as our input E, we need to change\n",
        "    # our input E.\n",
        "    mu_ion = 1.0/ (X+Y/4.0)\n",
        "    E_check = X*sol[1] + Y/4.0*(sol[3]+2.0*sol[4]) * mu_ion\n",
        "\n",
        "    return E_check, sol"
      ],
      "metadata": {
        "id": "5CHDXIk_D0mw"
      },
      "execution_count": 3,
      "outputs": []
    },
    {
      "cell_type": "markdown",
      "source": [
        "## 1. Ionization of pure hydrogen"
      ],
      "metadata": {
        "id": "fFDnpIxRFVcd"
      }
    },
    {
      "cell_type": "markdown",
      "metadata": {
        "id": "B7kl3ZOBAjQk"
      },
      "source": [
        "### a. In class: Let's create a function to calculate the Solution to Saha for pure hydrogen\n",
        "\n",
        "We would like the function to accept an array of temperature (set in Kelvin with the astropy unit package), and return $n_{\\mathrm{H}^+}/n_\\mathrm{H}$.\n",
        "\n",
        "$$K_r^{r+1}(T,P) = \\frac{T^{5/2}}{P_\\mathrm{gas,tot}} e^{-\\chi_r/kT}\\frac{U^{r+1}(T,P)}{U^r(T,P)} \\left[\\frac{2(2\\pi m_e)^{3/2} k^{5/2}}{h^3}\\right]$$\n",
        "\n",
        "The partition function for neutral hydrogen H$^o$ can be calculated with the function `partition_H(T, smax=1)`. The partition function for H$^+$ is simply 1 (because it does not have any bound electrons) \n"
      ]
    },
    {
      "cell_type": "code",
      "execution_count": 4,
      "metadata": {
        "id": "E7Gsy_b_AjQl"
      },
      "outputs": [],
      "source": [
        "# Let's calculate the value of the constant we need\n",
        "# so that the code doesn't have to recalculate it \n",
        "# every time.\n",
        "#print( ( 2*(2* np.pi * const.m_e)**1.5 /const.h**3 * const.k_B**2.5).cgs)\n",
        "#print( (13.6 *u.eV / const.k_B).decompose())\n",
        "\n",
        "#---------------------------------------\n",
        "#---------------------------------------\n",
        "# In class\n",
        "def saha_H(T,Ptot,smax=1):\n",
        "  c=((2*(2* np.pi * const.m_e)**1.5 /const.h**3 * const.k_B**2.5).cgs)\n",
        "  a=(13.6 *u.eV/const.k_B/(T)).decompose()\n",
        "\n",
        "  K=(T**(5/2)/Ptot)*(np.exp(-a))*(c)*(1/partition_H(T, smax=1))\n",
        "  \n",
        "  E=(K/(K+1))**(0.5)\n",
        "  \n",
        "  return(E)\n",
        "\n",
        "#saha_H(np.array([6000,6500,7000])*u.K,1e4*u.Ba)"
      ]
    },
    {
      "cell_type": "markdown",
      "metadata": {
        "id": "d_Vn80lZAjQm"
      },
      "source": [
        "### b. The variation of ionization as a function of temperature\n",
        "\n",
        ">**TODO**: In the cell below, I have already defined an array of temperatures from 1,000 to 30,000 K (using the astropy unit package). I also define a variable for a pressure of $10^4$ dyn/cm$^2$ (the name of that 'cgs' unit is a Barye, so you can use the shortcut `u.Ba`).\n",
        ">\n",
        ">Make a plot of the variation of $x_\\mathrm{H}^+$ ($=n_\\mathrm{H}^+/n_\\mathrm{H}$) as a function of temperature.\n",
        ">\n",
        ">Next, add a curve of $x_\\mathrm{H}^+$ as a function of temperature, for a different pressure (make sure to change the pressure by an amount that yields a different curve).\n",
        ">\n",
        ">Remember to label your axes and label your curve (look at the previous notebooks to see how)"
      ]
    },
    {
      "cell_type": "code",
      "execution_count": 5,
      "metadata": {
        "id": "RLs8dAhrAjQm",
        "outputId": "226a5095-5d54-4803-c9cb-7e8027bdbf4c",
        "colab": {
          "base_uri": "https://localhost:8080/",
          "height": 370
        }
      },
      "outputs": [
        {
          "output_type": "execute_result",
          "data": {
            "text/plain": [
              "<matplotlib.legend.Legend at 0x7fdcd0b38950>"
            ]
          },
          "metadata": {},
          "execution_count": 5
        },
        {
          "output_type": "display_data",
          "data": {
            "image/png": "[encoded data removed]",
            "text/plain": [
              "<Figure size 576x360 with 1 Axes>"
            ]
          },
          "metadata": {
            "needs_background": "light"
          }
        }
      ],
      "source": [
        "fig, ax = plt.subplots(1,1, figsize=(8,5))\n",
        "\n",
        "# Create a range of temperatures in Kelvin\n",
        "rangeT = np.linspace(1000,30000,100) * u.K\n",
        "\n",
        "# Define the pressure in dyn/cm2\n",
        "Ptot = 1e4 * u.Ba\n",
        "Ptot1=1e5*u.Ba\n",
        "\n",
        "#---------------------------------------\n",
        "#---------------------------------------\n",
        "ax.plot(rangeT,saha_H(rangeT,Ptot),label='Ptot=1e4 Ba')\n",
        "ax.plot(rangeT,saha_H(rangeT,Ptot1),label='Ptot=1e6 Ba')\n",
        "ax.set_xlabel(\"Temperature (K)\")\n",
        "ax.set_ylabel(\"$x_\\mathrm{H}^+$\")\n",
        "ax.set_title(\"$x_\\mathrm{H}^+$ vs. Temperature\")\n",
        "ax.legend(loc=0, fontsize=12)\n"
      ]
    },
    {
      "cell_type": "markdown",
      "metadata": {
        "id": "J5qiNgaaAjQn"
      },
      "source": [
        "> **TODO**: <font color='red'>Please write a small paragraph with an interpretation of the result obtained:</font>\n",
        "\n",
        "***ANSWER***: The above plot shows $x_\\mathrm{H}^+$ as a function of temperature. $x_\\mathrm{H}^+$ is the ratio of ionized hydrogen to neutral hydrogen. The two curves on the plot correspond to different pressures. For a higher pressure, hydrogen doesn't begin to ionize until a slightly higher temperature. This is emphasized by the orange curve being shifted slightly to the right relative to the blue curve. The reason for this could be because it takes more energy (therefore a higher temperature) to ionize hydrogen under a higher pressure."
      ]
    },
    {
      "cell_type": "markdown",
      "source": [
        "## 2. Ionization of a mixture of H and He"
      ],
      "metadata": {
        "id": "rX2G_dp-HUl4"
      }
    },
    {
      "cell_type": "markdown",
      "source": [
        "### a. In class, demonstration of the iteration to find the right solution for $E$\n",
        "\n",
        "(for a given temperature and pressure)"
      ],
      "metadata": {
        "id": "bwiPJd5HHqgm"
      }
    },
    {
      "cell_type": "code",
      "source": [
        "T = 20000.0*u.K\n",
        "Ptot = 1e4 * u.Ba\n",
        "\n",
        "#---------------------------------------\n",
        "#---------------------------------------\n",
        "# In class\n",
        "\n",
        "E = 0.806\n",
        "#---------------------------------------\n",
        "\n",
        "newE, x = trial_saha(E, T, Ptot)\n",
        "\n",
        "print( 'E: {:0.3f}, H0: {:0.3f}, H+: {:0.3f}, He0: {:0.3f}, He+: {:0.3f}, He++: {:0.3f}'.format(newE, x[0], x[1], x[2], x[3], x[4]) )"
      ],
      "metadata": {
        "colab": {
          "base_uri": "https://localhost:8080/"
        },
        "id": "P9acXFO-HX7o",
        "outputId": "fb3eb4bd-aabd-4015-d2f1-b3eb85924fa5"
      },
      "execution_count": 6,
      "outputs": [
        {
          "output_type": "stream",
          "name": "stdout",
          "text": [
            "E: 0.806, H0: 0.000, H+: 1.000, He0: 0.271, He+: 0.729, He++: 0.000\n"
          ]
        }
      ]
    },
    {
      "cell_type": "markdown",
      "source": [
        "### b. Mini-project: make a graph of the ionization fractions of a H and He mixture as a function of temperature\n",
        "\n",
        ">**TODO: For a \"A\" on this notebook, otherwise the max grade will be \"B\".**\n",
        ">\n",
        ">Use the function described above to produce a plot of $x_{H}^{o}, x_{H}^{+}, x_{He}^{o}, x_{He}^{+}, x_{H}^{++}$ as a function of temperature, between 1000 K and 60,000 K.\n",
        ">\n",
        ">Let's assume that $P_\\mathrm{gas, tot} = 10^{4}$ dyn/cm$^2$, $X=0.75$, and $Y=0.25$.\n",
        ">\n",
        ">Although this can be done by manually finding the right value of $E$ for each temperature considered (i.e. writing it down for a large number of temperatures, and then making a plot from these values), I encourage you to think on how the use of loops, arrays, and nicely formatted output to compare the $E$ values, as it may save you a lot of time.\n",
        ">\n",
        ">An additional note: if you decide to use some code to automatically find the right value of $E$, you should known that using a condition like a == b is very strict and might be difficult to achive, as the two floating point numbers need to be exactly the same down to the computer's numerical precision. In practice, it is sometime useful to use a condition where |a-b| < a small tolerance value that is appropriate to the current problem. "
      ],
      "metadata": {
        "id": "MSJqQwI7H-Vx"
      }
    },
    {
      "cell_type": "code",
      "source": [
        "Ptot = 1e4 * u.Ba\n",
        "# Don't forget to define your temperature in Kelvin using * u.K.\n",
        "temp_arr=np.linspace(1000,60000,200)*u.K\n",
        "\n",
        "#---------------------------------------\n",
        "#---------------------------------------\n",
        "# At home\n",
        "def mixture_1temp(temperature,Ptot, tolerance, samples):\n",
        "  \n",
        "  newE_arr=np.zeros(samples)\n",
        "  random_vals=np.random.rand(samples)\n",
        "  x_array=np.zeros((samples,5))\n",
        "\n",
        "  for i in range(samples):\n",
        "    E_test=random_vals[i]\n",
        "    newE_arr[i],x_array[i]=trial_saha(E_test,temperature,Ptot)\n",
        "  \n",
        "  results=random_vals[abs(random_vals-newE_arr)<tolerance]\n",
        "  good_x_vals=x_array[abs(random_vals-newE_arr)<tolerance]\n",
        "\n",
        "  dic={'E':results,'X':good_x_vals}\n",
        "  \n",
        "  \n",
        "  return dic\n"
      ],
      "metadata": {
        "id": "FR-6VENOIkeD"
      },
      "execution_count": 69,
      "outputs": []
    },
    {
      "cell_type": "code",
      "source": [
        "#dummy=mixture_1temp(6000*u.K,1e4*u.Ba,.01,3000)"
      ],
      "metadata": {
        "id": "IyubWZNbaNhM"
      },
      "execution_count": 70,
      "outputs": []
    },
    {
      "cell_type": "code",
      "source": [
        "#dummy"
      ],
      "metadata": {
        "id": "wFL5h5wbydv_"
      },
      "execution_count": 61,
      "outputs": []
    },
    {
      "cell_type": "code",
      "source": [
        "tem = np.linspace(1000, 6e4, 400)* u.K\n",
        "samples = 1000\n",
        "Ptot = 1e4 * u.Ba\n",
        "toler = 0.05"
      ],
      "metadata": {
        "id": "RlGUgHUrW5Wk"
      },
      "execution_count": 71,
      "outputs": []
    },
    {
      "cell_type": "code",
      "source": [
        "def mixture(temperature, pressure, tolerance, samples):\n",
        "    x_vals = np.zeros((len(temperature),5))\n",
        "    e_vals = np.zeros(len(temperature))\n",
        "    for i in range(len(temperature)):\n",
        "        val = mixture_1temp(temperature[i], pressure, toler, samples)\n",
        "        e_vals[i] = np.average(val['E'])\n",
        "        x_vals[i] = np.average(val['X'], axis=0)\n",
        "    return e_vals, x_vals"
      ],
      "metadata": {
        "id": "sCmD5As7zmZD"
      },
      "execution_count": 72,
      "outputs": []
    },
    {
      "cell_type": "code",
      "source": [
        "samples = 4000\n",
        "e_vals, x_vals = mixture(tem, Ptot, toler, samples)"
      ],
      "metadata": {
        "id": "gl9-lCxMztU4"
      },
      "execution_count": 74,
      "outputs": []
    },
    {
      "cell_type": "code",
      "source": [
        "#plot the values as a function of temperature\n",
        "fig, ax = plt.subplots(3,1, figsize=(9,10), sharex =True, \\\n",
        "                       gridspec_kw = {'wspace':0, 'hspace':0})\n",
        "\n",
        "colores = ['b','r', 'darkgreen', 'k', 'magenta']\n",
        "labels = ['$x_H^0$','$x_H^+$', '$x_{He}^0$', '$x_{He}^+$', '$x_{He}^{++}$']\n",
        "for i in range(2):\n",
        "    ax[0].errorbar(tem, x_vals[:,i], color = colores[i], label =r''+labels[i])\n",
        "    \n",
        "ax[0].set_ylabel(r'$x_H$')\n",
        "ax[0].legend()\n",
        "    \n",
        "for i in range(2,5):\n",
        "    ax[1].errorbar(tem, x_vals[:,i], color = colores[i], label =r''+labels[i])\n",
        "ax[1].set_ylabel(r'$x_{He}$')\n",
        "\n",
        "ax[1].legend()\n",
        "\n",
        "ax[2].plot(tem, e_vals, color = 'darkorange')\n",
        "ax[2].set_ylabel(r'$E$')\n",
        "ax[2].set_xlabel('Temperature (K)')"
      ],
      "metadata": {
        "colab": {
          "base_uri": "https://localhost:8080/",
          "height": 623
        },
        "id": "O7sa4FmV3WUh",
        "outputId": "984a99f7-a35d-4851-d3a3-a832410ce999"
      },
      "execution_count": 76,
      "outputs": [
        {
          "output_type": "execute_result",
          "data": {
            "text/plain": [
              "Text(0.5, 0, 'Temperature (K)')"
            ]
          },
          "metadata": {},
          "execution_count": 76
        },
        {
          "output_type": "display_data",
          "data": {
            "image/png": "[encoded data removed]",
            "text/plain": [
              "<Figure size 648x720 with 3 Axes>"
            ]
          },
          "metadata": {
            "needs_background": "light"
          }
        }
      ]
    },
    {
      "cell_type": "markdown",
      "source": [
        "> **TODO**: <font color='red'>Please write a small paragraph with an interpretation of the result obtained:</font>\n",
        "\n",
        "***ANSWER***: This figure shows us the ionization rates for a mixture of hydrogen and helium (Specifically with X=0.75 and Y=0.25). The top plot shows us that for a range of temperatures between 1000K and 60000K, neutral hydrogen ionizes at approximately 10000K. Similarly for helium, neutral helium ($x_{He}^0$) ionized into $x_{He}^+$ at temperatures around 18000-20000K. Then, $x_{He}^+$ will ionize into $x_{He}^++$ at even higher temperatures close to 35000-40000K. In the final figure, I show how the calculated value of E changes for a varying temperature."
      ],
      "metadata": {
        "id": "SA1YdN2ilAEu"
      }
    }
  ],
  "metadata": {
    "anaconda-cloud": {},
    "kernelspec": {
      "display_name": "Python 3",
      "name": "python3"
    },
    "language_info": {
      "name": "python"
    },
    "colab": {
      "name": "Hilligoss_Dylan_07-SahaEquations.ipynb",
      "provenance": [],
      "collapsed_sections": [
        "nM8Felk9AjQj",
        "0Sv7CZdoBGk-",
        "IERS54rID0Xn"
      ]
    }
  },
  "nbformat": 4,
  "nbformat_minor": 0
}