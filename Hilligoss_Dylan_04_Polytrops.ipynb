{
 "cells": [
  {
   "cell_type": "markdown",
   "metadata": {
    "id": "ZAgpGCGzPk64"
   },
   "source": [
    "# <font color='purple'>04-Polytrops</font> (Template)"
   ]
  },
  {
   "cell_type": "markdown",
   "metadata": {
    "id": "QatfFltLPk69"
   },
   "source": [
    "We start by importing the modules\n",
    "* Numpy -- operations on arrays and matrixes (and pi)\n",
    "* Matplotlib pyplot -- plotting library\n",
    "* Astropy units -- defined quantities with units. We also import the CDS conversions"
   ]
  },
  {
   "cell_type": "code",
   "execution_count": 1,
   "metadata": {
    "colab": {
     "base_uri": "https://localhost:8080/"
    },
    "id": "XrdDoLArPk6-",
    "outputId": "11ffdcba-c51e-4078-a93c-951c6109a675"
   },
   "outputs": [
    {
     "data": {
      "text/plain": [
       "<astropy.units.core._UnitContext at 0x7fbd6bf7e550>"
      ]
     },
     "execution_count": 1,
     "metadata": {},
     "output_type": "execute_result"
    }
   ],
   "source": [
    "import numpy as np, copy\n",
    "import matplotlib.pyplot as plt\n",
    "%matplotlib inline\n",
    "from astropy import constants as const\n",
    "import astropy.units as u\n",
    "from astropy.units import cds\n",
    "cds.enable() "
   ]
  },
  {
   "cell_type": "markdown",
   "metadata": {
    "id": "wyws32tsPk7A"
   },
   "source": [
    "## 1. Below are a few functions that we will need -- please execute them"
   ]
  },
  {
   "cell_type": "markdown",
   "metadata": {
    "id": "kMmsos3SPk7A"
   },
   "source": [
    "### a. MESA evolution code\n",
    "\n",
    "MESA is an open-source code that performs detailed calculations for the structure and evolution of stars. Throughout the course, we will be using models calcualted with MESA -- if you are interested, you can find more details here: http://mesastar.org/. \n",
    "\n",
    "And here's a little function that will allow you to read a Solar model calculated from the MESA code."
   ]
  },
  {
   "cell_type": "code",
   "execution_count": 2,
   "metadata": {
    "id": "c4HbBvuxPk7B"
   },
   "outputs": [],
   "source": [
    "def read_model(file):\n",
    "\n",
    "    cols = np.array([1,2,3,4,5,29,66])-1\n",
    "    return np.genfromtxt(file, skip_header=5, names=True, usecols = cols)"
   ]
  },
  {
   "cell_type": "markdown",
   "metadata": {
    "id": "oApK2UhVPk7B"
   },
   "source": [
    "### b. Numerical solution of the Lane-Emden equation\n",
    "\n",
    "Here I provide a function to numerically calculate the $\\theta(\\epsilon)$ function for a polytropic index $n>1$, such that\n",
    "$$\\rho(r) = \\rho_c \\theta(r)^n.$$\n",
    "\n",
    "If you are interested in the numerical procedure, see Hansen & Kawaler sec 7.2.2."
   ]
  },
  {
   "cell_type": "code",
   "execution_count": 3,
   "metadata": {
    "id": "TdP4QLJ-Pk7C"
   },
   "outputs": [],
   "source": [
    "def Lane_zp(x, y, z, n):\n",
    "    if y < 0:\n",
    "        y = 0\n",
    "    return -2.0 * z / x - y**n\n",
    "\n",
    "def poly_num(n, h=0.01, x_end=16.0, xinit=0.00001):\n",
    "    # Initialize the step and the ending eps value\n",
    "    # n: polytrope index\n",
    "    # h: 0.05 step size\n",
    "    # x_end: 16.0 \n",
    "\n",
    "    # Initialize the starting value\n",
    "    x = xinit\n",
    "    y = 1 - ( 1.0/6.0 * x**2)  + ( n/120.0 * x**4 ) - ( n*(8*n-5)/15120.0 * x**6 )\n",
    "    z = - ( 1.0/6.0 * 2 * x ) + ( n/120.0 * 4 * x**3 )  - ( n*(8*n-5)/15120.0 * 6 * x**5 )\n",
    "    zp = - ( 1.0/6.0 * 2 ) + ( n/120.0 * 12 * x**2 )  - ( n*(8*n-5)/15120.0 * 6*5 * x**4 )\n",
    "\n",
    "    eps = np.array([h])\n",
    "    theta = np.array([y])\n",
    "    theta_prim = np.array([z])\n",
    "\n",
    "    # Make the calculation until we reach X_end, of theta goes to zero\n",
    "    while (x < x_end) and (y>0):\n",
    "    \n",
    "        K1 = h * z\n",
    "        L1 = h * Lane_zp(x, y, z, n)\n",
    "        K2 = h * (z + L1/2.0)\n",
    "        L2 = h * Lane_zp(x+h/2.0, y+K1/2.0, z+L1/2.0, n)\n",
    "        K3 = h * (z + L2/2.0)\n",
    "        L3 = h * Lane_zp(x+h/2.0, y+K2/2.0, z+L2/2.0, n)\n",
    "        K4 = h * (z + L3/2.0)\n",
    "        L4 = h * Lane_zp(x+h, y+K3, z+L3, n)\n",
    "    \n",
    "        y = y + K1/6.0 + K2/3.0 + K3/3.0 + K4/6.0\n",
    "        z = z + L1/6.0 + L2/3.0 + L3/3.0 + L4/6.0\n",
    "    \n",
    "        x = x+h\n",
    "    \n",
    "        eps = np.append(eps, x)\n",
    "        theta = np.append(theta, y)\n",
    "        theta_prim = np.append(theta_prim, z)\n",
    "        \n",
    "    return eps[0:eps.size-1], theta[0:theta.size-1], theta_prim[0:theta_prim.size-1]"
   ]
  },
  {
   "cell_type": "markdown",
   "metadata": {
    "id": "J1lDZh5vQMsk"
   },
   "source": [
    "## 2. Analytical solutions for polytrops"
   ]
  },
  {
   "cell_type": "markdown",
   "metadata": {
    "id": "oXOWUAomPk7D"
   },
   "source": [
    "### a. Let's define some function that return $\\theta(r)$ for the analytical solutions of the Lane-Emden equation\n",
    "\n",
    "For n = 0,\n",
    "$$\\theta(\\epsilon) = 1 - \\frac{\\epsilon^2}{6}.$$\n",
    "\n",
    "For n = 1, \n",
    "\n",
    "$$\\theta(\\epsilon) = \\frac{\\sin \\epsilon}{\\epsilon}$$\n",
    "\n",
    "For n = 5,\n",
    "$$\\theta(\\epsilon) = \\frac{1.0}{(1.0+\\epsilon^{2}/3)^{1/2}}$$"
   ]
  },
  {
   "cell_type": "code",
   "execution_count": 4,
   "metadata": {
    "id": "YIdvSo5WPk7E"
   },
   "outputs": [],
   "source": [
    "#-------------------------------------------------------\n",
    "# In class: we will learn how to define functions\n",
    "def poly_n0(eps):\n",
    "  #eps is an array of epsilon values\n",
    "  return (1-eps**2/6)\n",
    "\n",
    "def poly_n1(eps):\n",
    "  return(np.sin(eps)/eps)\n",
    "\n",
    "def poly_n5(eps):\n",
    "  return(1.0/(1.0+eps**(2)/3)**0.5)\n"
   ]
  },
  {
   "cell_type": "markdown",
   "metadata": {
    "id": "jOBE-FilPk7F"
   },
   "source": [
    "### b. Let's now look at what these solutions look like\n",
    "\n",
    "We will first plot the analytic solutions, and then compare to the numerical solutions.\n",
    "\n",
    "> **TODO** from now on: <font color='red'>please properly label the figure axes for your all of your notebooks</font>"
   ]
  },
  {
   "cell_type": "code",
   "execution_count": 5,
   "metadata": {
    "colab": {
     "base_uri": "https://localhost:8080/",
     "height": 329
    },
    "id": "Q8hM5-kHPk7F",
    "outputId": "ebd5855b-9d55-4611-e279-6c61aae82e08"
   },
   "outputs": [
    {
     "data": {
      "text/plain": [
       "Text(27.125, 0.5, '$\\\\theta(r)$')"
      ]
     },
     "execution_count": 5,
     "metadata": {},
     "output_type": "execute_result"
    },
    {
     "data": {
      "image/png": "[encoded data removed]",
      "text/plain": [
       "<Figure size 432x288 with 1 Axes>"
      ]
     },
     "metadata": {
      "needs_background": "light"
     },
     "output_type": "display_data"
    }
   ],
   "source": [
    "fig, ax = plt.subplots(1,1,figsize=(6,4))\n",
    "plt.rcParams.update({'font.size': 18})\n",
    "plt.rcParams.update({'font.family': 'Times New Roman'})\n",
    "\n",
    "ax.set_ylim(0,1)\n",
    "#---------------------------------------\n",
    "#---------------------------------------\n",
    "# In class\n",
    "\n",
    "######################\n",
    "# Analytical solutions\n",
    "\n",
    "# Define a setof eps values\n",
    "eps=np.linspace(0.01,16,100)\n",
    "######################\n",
    "ax.plot(eps,poly_n0(eps),label='n=0')\n",
    "ax.plot(eps,poly_n1(eps),label='n=1')\n",
    "ax.plot(eps,poly_n5(eps),label='n=5')\n",
    "\n",
    "\n",
    "\n",
    "######################\n",
    "# numerical solutions\n",
    "######################\n",
    "\n",
    "# the function poly_num(n) will return\n",
    "# an array of eps values, an array of theta values, \n",
    "# and an array of dTheta/dEps.\n",
    "# The last element of the array is eps_1 (if n<5)\n",
    "\n",
    "\n",
    "n=[1,2,3,4]\n",
    "\n",
    "for item in n:\n",
    "  eps, theta, theta_p = poly_num(item)\n",
    "  ax.plot(eps,theta,c='k',ls='--')\n",
    "    \n",
    "\n",
    "#---------------------------------------\n",
    "#---------------------------------------\n",
    "ax.legend(loc=0, fontsize=15)\n",
    "plt.tight_layout()\n",
    "#-----------------------------------------\n",
    "# Not included, they can do this themselves from now on. \n",
    "ax.set_xlabel(r'$\\epsilon$')\n",
    "ax.set_ylabel(r'$\\theta(r)$')"
   ]
  },
  {
   "cell_type": "markdown",
   "metadata": {
    "id": "OLS_YsrXPk7G"
   },
   "source": [
    "> **TODO**: <font color='red'>Please write a small paragraph with an interpretation of the result obtained:</font>\n",
    "\n",
    "**ANSWER**: This plot shows us how $\\theta(\\epsilon)$ varies for a given value of $n$. For each case, the surface of the corresponding star is denoted by $\\epsilon_1$, which is located where each curve crosses the $x$ axis. "
   ]
  },
  {
   "cell_type": "markdown",
   "metadata": {
    "id": "NV-qJEQCPk7G"
   },
   "source": [
    "## 3. Comparison with the density profile of the Sun"
   ]
  },
  {
   "cell_type": "markdown",
   "metadata": {
    "id": "mfR9zZ6_Pk7G"
   },
   "source": [
    "### a.  In class: what does the density profile look like for various polytrops compared to the Sun?\n",
    "\n",
    "I provide you with a plot of $\\rho / \\rho_c$ for a detailed model of the Sun, calculated by MESA.\n",
    "\n",
    "The numerical calculation returns $\\epsilon$ and $\\theta(\\epsilon)$. We need to transform these into $r/R_\\star$ and $\\rho/\\rho_c$.\n",
    "\n",
    "> **TODO** <font color='red'>: Summarize the procedure here in words and math. Use Latex formatting to render the math</font>\n",
    "\n",
    "**ANSWER**: To find these density profile comparisons, we first should define $\\epsilon=\\frac{r}{\\alpha}$. A polytropic model also tells lets us define density as a function of radius by: $\\rho(r)=\\rho_0\\theta^n(r)$. A location where we know certain values is at the star's surface. So at the surface, $(r=R_\\star)$, $\\epsilon=\\epsilon_0$, and $\\theta(\\epsilon=\\epsilon_0)=0$. From the relationship between $r$ and $\\epsilon$, $$R_\\star=\\alpha \\epsilon_1$$ where $$\\frac{\\epsilon}{\\epsilon_1}=\\frac{r}{R_\\star}$$ and $$\\alpha=\\frac{P_0(n+1)}{4\\pi G \\rho_0^2}$$. By definition, we can now relate $\\theta^n(t)$ to $\\rho(r)$ by simply dividing by $\\rho_0$. $$\\frac{\\rho(r)}{\\rho_0}=\\theta^n(r)$$."
   ]
  },
  {
   "cell_type": "markdown",
   "metadata": {
    "id": "Zv0AT986PDNX"
   },
   "source": [
    "> **TODO**: <font color=\"red\">Using the code below, find out which polytropic index $n$ is a best match for the Sun. (Note that the polytropic index can be a fractional number)</font>"
   ]
  },
  {
   "cell_type": "code",
   "execution_count": 6,
   "metadata": {
    "colab": {
     "base_uri": "https://localhost:8080/",
     "height": 355
    },
    "id": "dxl_zeyFPk7H",
    "outputId": "ccec052f-2187-4f2b-f0d2-b13291f48787"
   },
   "outputs": [
    {
     "data": {
      "text/plain": [
       "Text(20.375, 0.5, '$\\\\rho / \\\\rho_c$')"
      ]
     },
     "execution_count": 6,
     "metadata": {},
     "output_type": "execute_result"
    },
    {
     "data": {
      "image/png": "[encoded data removed]",
      "text/plain": [
       "<Figure size 432x288 with 1 Axes>"
      ]
     },
     "metadata": {
      "needs_background": "light"
     },
     "output_type": "display_data"
    }
   ],
   "source": [
    "fig, ax = plt.subplots(1,1,figsize=(6,4))\n",
    "plt.rcParams.update({'font.size': 18})\n",
    "plt.rcParams.update({'font.family': 'Times New Roman'})\n",
    "\n",
    "ax.set_xlim(0,1)\n",
    "ax.set_ylim(0,1)\n",
    "\n",
    "# MESA solar model\n",
    "mesa = read_model('https://raw.githubusercontent.com/veropetit/PHYS633-S2022/main/L04-Polytrops/04-MESAdatafile.txt')\n",
    "# In the mesa model, the first element [0] correspond to the surface, \n",
    "# and the last element [mesa.size-1] correspond to the center.\n",
    "mesa_r = 10**(mesa['logR']-mesa['logR'][0])\n",
    "mesa_rho =  10**(mesa['logRho']-mesa['logRho'][mesa.size-1]) # the density is given in cgs\n",
    "ax.plot(mesa_r, mesa_rho, c=\"red\", lw=2, label='MESA')\n",
    "\n",
    "#---------------------------------------\n",
    "#---------------------------------------\n",
    "# In class\n",
    "\n",
    "# numerical solutions\n",
    "\n",
    "n=[1,2,3,3.5,4]\n",
    "for item in n:\n",
    "  eps, theta, theta_p = poly_num(item)\n",
    "  eps1=eps[-1]\n",
    "  ax.plot(eps/eps1,theta**item,ls='--',c='k')\n",
    "  #ax.legend(loc=0,fontsize=12)\n",
    "    \n",
    "    \n",
    "#---------------------------------------   \n",
    "#---------------------------------------\n",
    "ax.legend(loc=0, fontsize=12)\n",
    "plt.tight_layout()\n",
    "#-----------------------------\n",
    "# Not given\n",
    "ax.set_xlabel(r'$R / R_\\odot$')\n",
    "ax.set_ylabel(r'$\\rho / \\rho_c$')"
   ]
  },
  {
   "cell_type": "markdown",
   "metadata": {
    "id": "wnIqbLZaPk7H"
   },
   "source": [
    "> **TODO**: <font color='red'>Please write a small paragraph with an interpretation of the result obtained:</font>\n",
    "\n",
    "**ANSWER**: This plot shows density profiles for various polytropic models compared to that of the Sun. The Sun's density profile, obtained from MESA data, shows how density scales with radius. The black, dashed curves represent analytical solutions to the Lane-Emden equation. This returns values for $\\theta$, $\\frac{d\\theta}{d\\epsilon}$, and $\\epsilon$ values. Using an $n$ index of $n=3.5$ seems to align close with the MESA model.\n"
   ]
  },
  {
   "cell_type": "markdown",
   "metadata": {
    "id": "TEDR42VnPk7H"
   },
   "source": [
    "### b. At home: what is the central density for these polytrops?\n",
    "\n",
    "In the plot below, I show the density, in g/cm$^3$, of the the detailed MESA solar model. \n",
    " \n",
    "> **TODO** In order to transform $\\rho/\\rho_c$ from above into a numerical density, you need to find the central density in g/cm$^3$. \n",
    ">\n",
    "> **Hint**: before coding like a maniac, find an expression for the central density that is a function of only Msun and Rsun -- it becomes a much elegant expression with a cool meaning, if you remember that an average density of total volume / total mass...\n",
    ">\n",
    "> Include your derivation here (you can start from the set of 3 equations that are on the last slide from class).\n",
    "\n",
    "<img src= \"https://drive.google.com/uc?export=view&id=10v5VM19ECb47mKFt_JGSj9Nfs_u6dMtZ\" width=\"500\">\n",
    "\n",
    "<img src= \"https://drive.google.com/uc?export=view&id=1cikaNGrEZBYIyzmc7hNsul8YPGumDosE\" width=\"500\">\n",
    " \n",
    " "
   ]
  },
  {
   "cell_type": "markdown",
   "metadata": {
    "id": "sVg8DGsDgwGo"
   },
   "source": [
    "> **TODO**: in the code below, add curves for a few values of $n$, like we did in part 3a. Then find visualy the $n$ index that matches the central density of the sun the best. Use the astropy unit and constant packages, like we did on Tuesday.\n",
    "\n",
    "Note that the numerical solution, the function poly_num(n) will return: \n",
    "1. an array of $\\epsilon$ values, \n",
    "2. an array of $\\theta(\\epsilon)$ values, \n",
    "3. an array of $\\frac{d\\theta(\\epsilon)}{d\\epsilon}$ (or $\\theta'(\\epsilon)$)\n",
    "\n",
    "The last element of the arrays correspond to $\\epsilon_1$ (if $n<5$). Therefore the element `theta_p[-1]` corresponds to $\\theta'(\\epsilon_1)$"
   ]
  },
  {
   "cell_type": "code",
   "execution_count": 7,
   "metadata": {
    "colab": {
     "base_uri": "https://localhost:8080/",
     "height": 280
    },
    "id": "5mnMMksTPk7I",
    "outputId": "c6781021-77b5-49e6-934d-362e00877d2a"
   },
   "outputs": [
    {
     "data": {
      "image/png": "[encoded data removed]",
      "text/plain": [
       "<Figure size 432x288 with 1 Axes>"
      ]
     },
     "metadata": {
      "needs_background": "light"
     },
     "output_type": "display_data"
    }
   ],
   "source": [
    "fig, ax = plt.subplots(1,1,figsize=(6,4))\n",
    "plt.rcParams.update({'font.size': 18})\n",
    "plt.rcParams.update({'font.family': 'Times New Roman'})\n",
    "\n",
    "ax.set_xlim(0,1)\n",
    "ax.set_ylim(0,300)\n",
    "\n",
    "# MESA solar model\n",
    "mesa = read_model('https://raw.githubusercontent.com/veropetit/PHYS633-S2022/main/L04-Polytrops/04-MESAdatafile.txt')\n",
    "# In the mesa model, the first element [0] correspond to the surface, \n",
    "# and the last element [mesa.size-1] correspond to the center.\n",
    "mesa_r = 10**(mesa['logR']-mesa['logR'][0])\n",
    "mesa_rho =  10**(mesa['logRho']) # the density is in cgs units.\n",
    "ax.plot(mesa_r, mesa_rho, c=\"red\", lw=2, label='MESA')\n",
    "\n",
    "ax.set_xlabel(r'$R / R_\\odot$')\n",
    "ax.set_ylabel(r'$\\rho_0$ (g/cm$^3$)')\n",
    "\n",
    "#---------------------------------------\n",
    "#---------------------------------------\n",
    "# at home\n",
    "n1=[1,2,3,3.4,4]\n",
    "for item1 in n1:\n",
    "  eps, theta, theta_p = poly_num(item1)\n",
    "  eps1=eps[-1]\n",
    "  rho0=(-u.M_sun*eps1)/(4*np.pi*u.R_sun**3*theta_p[-1])\n",
    "  ax.plot(eps/eps1,theta**(item1)*rho0.to(u.g/u.cm**3),ls='--',c='k')\n",
    "\n",
    "       \n",
    "\n",
    "\n",
    "\n",
    "\n",
    "\n",
    "\n",
    "\n",
    "#-----------------------------\n",
    "ax.legend(loc=0, fontsize=15)\n",
    "plt.tight_layout()"
   ]
  },
  {
   "cell_type": "markdown",
   "metadata": {
    "collapsed": true,
    "id": "KYlm2mzsPk7I"
   },
   "source": [
    "> **TODO**: <font color='red'>Please write a small paragraph with an interpretation of the result obtained:</font>\n",
    "\n",
    "**ANSWER**: This plot shows us the central density as a function of scaled radius for various polytropic indices ($n=1,2,3,3.4,4)$ compared to the sophisticated MESA model. Refer to the derivation above to see how we obtained an expression for $\\rho_0$. It seems that an $n=3.4$ matches up quite closely to the MESA model, suggestions that the polytropic index of the Sun is approximately 3.4."
   ]
  },
  {
   "cell_type": "markdown",
   "metadata": {
    "id": "z6zW8EHZhkQd"
   },
   "source": [
    "## 4. Learning reflection\n",
    "\n",
    "> **TODO**: <font color='red'>Please write a small reflection on what you have learned and why. \n",
    "> \n",
    "> Suggestions: how does this notebook provide practice for the learning goal of this lecture? how does this topic fits within the learning goals of this course (could be science and/or techniques!), and how does it relates to other things that you have learned in other courses? \n",
    "\n",
    "**ANSWER**: This notebook really helped solidify my understanding of how varios polytropic models relate to real, physical quantities, such as density. Prior to this lesson and exercise, I had very little idea of just how significant of a role polytropes play when trying to develop an accurate model of stellar structures."
   ]
  }
 ],
 "metadata": {
  "anaconda-cloud": {},
  "colab": {
   "collapsed_sections": [],
   "name": "Hilligoss_Dylan_04-Polytrops.ipynb",
   "provenance": []
  },
  "kernelspec": {
   "display_name": "Python 3",
   "language": "python",
   "name": "python3"
  },
  "language_info": {
   "codemirror_mode": {
    "name": "ipython",
    "version": 3
   },
   "file_extension": ".py",
   "mimetype": "text/x-python",
   "name": "python",
   "nbconvert_exporter": "python",
   "pygments_lexer": "ipython3",
   "version": "3.7.4"
  }
 },
 "nbformat": 4,
 "nbformat_minor": 1
}
