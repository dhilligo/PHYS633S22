{
  "cells": [
    {
      "cell_type": "markdown",
      "metadata": {
        "id": "lfvgGBkwXawK"
      },
      "source": [
        "# <font color='purple'>05-MeanMolecularWeight</font> (template)"
      ]
    },
    {
      "cell_type": "markdown",
      "metadata": {
        "id": "1GU67JivXawP"
      },
      "source": [
        "We start by importing the modules\n",
        "* Numpy -- operations on arrays and matrixes (and pi)\n",
        "* Matplotlib pyplot -- plotting library\n",
        "* Astropy units -- defined quantities with units. We also import the CDS conversions"
      ]
    },
    {
      "cell_type": "code",
      "execution_count": 8,
      "metadata": {
        "id": "QjGDDnKaXawQ",
        "outputId": "0f6bf91c-553c-4af4-80de-252c190ae338",
        "colab": {
          "base_uri": "https://localhost:8080/"
        }
      },
      "outputs": [
        {
          "output_type": "execute_result",
          "data": {
            "text/plain": [
              "<astropy.units.core._UnitContext at 0x7f88954db650>"
            ]
          },
          "metadata": {},
          "execution_count": 8
        }
      ],
      "source": [
        "import numpy as np\n",
        "\n",
        "import matplotlib.pyplot as plt\n",
        "%matplotlib inline \n",
        "from astropy import constants as const\n",
        "import astropy.units as u\n",
        "from astropy.units import cds\n",
        "cds.enable() "
      ]
    },
    {
      "cell_type": "markdown",
      "metadata": {
        "id": "lH_cpVIzXawT"
      },
      "source": [
        "## 1. In class: Solar abundances\n",
        "\n",
        "In the 05-Grevesse.txt file, you will find a tabulation of the solar abundances for the first 30 elements that looks like this:\n",
        "\n",
        "<div style=\"width:600px;height:200px;padding:2px;border:1px dotted black;\">\n",
        "<PRE> \n",
        "# Abundance from Grevesse\t\t\t\t\t\n",
        "Z   A       Element   NumberFraction    logAbund    X\n",
        "1   1.0079  H         1.00E+00          1.20E+01    7.04E-01\n",
        "2   4.0026  He        1.00E-01          1.10E+01    2.80E-01\n",
        "3   6.941   Li        1.26E-11          1.10E+00    6.10E-11\n",
        "4   9.0122  Be        2.51E-11          1.40E+00    1.58E-10\n",
        "....\n",
        "</PRE>\n",
        "</div>"
      ]
    },
    {
      "cell_type": "markdown",
      "source": [
        "### a. We will first learn how to read in a data file, using a Numpy function"
      ],
      "metadata": {
        "id": "9Dyv_TpBZ9fa"
      }
    },
    {
      "cell_type": "code",
      "execution_count": 9,
      "metadata": {
        "id": "19QdZVKKXawT"
      },
      "outputs": [],
      "source": [
        "dtype=\"i8,f8,|U8,f8,f8,f8\"\n",
        "# If using \"S8\" for the element string, \n",
        "# numpy will use bytestring, which need to be decoded\n",
        "# before using in mathplotlib -- using U8 here instead\n",
        "url = 'https://raw.githubusercontent.com/veropetit/PHYS633-S2022/main/L05-MeanMolecularWeight/05-Grevesse.txt'\n",
        "#---------------------------------------\n",
        "#---------------------------------------\n",
        "# In class\n",
        "\n",
        "# How to read a data file\n",
        "SolAbundance=np.genfromtxt(url,skip_header=1, names=True, dtype=dtype)"
      ]
    },
    {
      "cell_type": "markdown",
      "metadata": {
        "id": "dV9Vq0lTXawU"
      },
      "source": [
        "### b. Now let's see what the abundance pattern looks like"
      ]
    },
    {
      "cell_type": "code",
      "execution_count": 10,
      "metadata": {
        "id": "3qfm7wFIXawW",
        "outputId": "e4b80b6a-7527-4391-d242-f11c68ef3afb",
        "colab": {
          "base_uri": "https://localhost:8080/",
          "height": 288
        }
      },
      "outputs": [
        {
          "output_type": "display_data",
          "data": {
            "image/png": "[encoded data removed]",
            "text/plain": [
              "<Figure size 720x288 with 1 Axes>"
            ]
          },
          "metadata": {
            "needs_background": "light"
          }
        }
      ],
      "source": [
        "fig, ax = plt.subplots(1,1, figsize=(10,4))\n",
        "ax.set_ylim(0,0.01)\n",
        "\n",
        "#---------------------------------------\n",
        "#---------------------------------------\n",
        "# In class\n",
        "ax.scatter(SolAbundance['Z'],SolAbundance['X'])\n",
        "ax.plot(SolAbundance['Z'],SolAbundance['X'])\n",
        "ax.set_xlabel(\"Element\")\n",
        "ax.set_ylabel(\"Relative Abundance\")\n",
        "\n",
        "\n",
        "# We can set the labels in the plots to the name of the elements!\n",
        "ax.set_xticks(SolAbundance['Z']);\n",
        "ax.set_xticklabels(SolAbundance['Element'],rotation=90);"
      ]
    },
    {
      "cell_type": "code",
      "source": [
        ""
      ],
      "metadata": {
        "id": "swF0vcFoBZg0"
      },
      "execution_count": 10,
      "outputs": []
    },
    {
      "cell_type": "markdown",
      "metadata": {
        "id": "t-VrJ62iXawY"
      },
      "source": [
        "> **TODO**: <font color='red'>Please write a small paragraph with an interpretation of the result obtained:</font>\n",
        "\n",
        "The above plot shows the relative abundances of each element found within the Sun. Obviously, both Hydrogen and Helium have the highest abundances since they are the primary elements that make up a star's composition. Other \"metals\" make up a much smaller abundance of the Sun's overall composition. All of them combined adds up to roughly 2% of the total mass of the Sun."
      ]
    },
    {
      "cell_type": "markdown",
      "metadata": {
        "id": "E8hlhfdoXawY"
      },
      "source": [
        "## 2. In class: what is the mean molecular weight for solar abundance?\n",
        "\n",
        "Let's calculate the value for the mean molecular weight using the $X_i$ in our abundance table. \n",
        "\n",
        "We found that:\n",
        "\n",
        "$$ \\frac{1}{\\mu} = \\frac{1}{\\mu_\\mathrm{ion}} + \\frac{1}{\\mu_\\mathrm{e}},$$\n",
        "with\n",
        "\n",
        "$$ \\frac{1}{\\mu_\\mathrm{ion}} = \\sum_i \\frac{X_i}{A_i}$$\n",
        "\n",
        "and\n",
        "\n",
        "$$ \\frac{1}{\\mu_\\mathrm{e}} = \\sum_i \\frac{Z_i X_i}{A_i} y_i $$\n",
        "\n",
        "Let's consider two cases:\n"
      ]
    },
    {
      "cell_type": "markdown",
      "source": [
        "### a. The gas is completely neutral\n",
        "\n",
        "> **TODO**: write a few words about how the equations above can be simplified for a completely neutral gas\n",
        "\n",
        "***ANSWER***: For a completely neutral gas, $\\mu_e$ can be set to 0.\n",
        "\n",
        "### b. The gas is completely ionized\n",
        "\n",
        "> **TODO**: write a few words about how the equations above can be simplified for a completely ionized gas\n",
        "\n",
        "***ANSWER***: For a completely ionized gas, we were able to simply for the expression for $\\mu_e$ because the $Y$ mass fraction could be set to 1."
      ],
      "metadata": {
        "id": "TNSCAi92islf"
      }
    },
    {
      "cell_type": "code",
      "execution_count": 23,
      "metadata": {
        "id": "V2AgrHt4XawZ",
        "colab": {
          "base_uri": "https://localhost:8080/"
        },
        "outputId": "e592081a-39b3-4a07-f9f8-c81a7b53d4a7"
      },
      "outputs": [
        {
          "output_type": "stream",
          "name": "stdout",
          "text": [
            "The mean molecular weight for a completely neutral gas is: 1.3005465793861997 m_p\n",
            "The mean molecular weight for a completely ionized gas is: 0.6205107952580795 m_p\n",
            "**m_p=(mass of hydrogen atom)**\n"
          ]
        }
      ],
      "source": [
        "#---------------------------------------\n",
        "#---------------------------------------\n",
        "# In class\n",
        "\n",
        "#For a completely neutral gas, 𝜇_ion=0\n",
        "\n",
        "mu_e=1/np.sum(SolAbundance['Z']*SolAbundance['X']/SolAbundance['A'])\n",
        "mu_ion=1/np.sum(SolAbundance['X']/SolAbundance['A'])\n",
        "neutral_MMW=mu_ion+0\n",
        "print(\"The mean molecular weight for a completely neutral gas is:\", neutral_MMW,r'm_p')\n",
        "\n",
        "ionized_MMW=1/(mu_ion)+1/(mu_e)\n",
        "print(\"The mean molecular weight for a completely ionized gas is:\", 1/ionized_MMW, 'm_p')\n",
        "print(\"**m_p=(mass of hydrogen atom)**\")"
      ]
    },
    {
      "cell_type": "markdown",
      "source": [
        "> **TODO**: <font color='red'>Please write a small paragraph with an interpretation of the result obtained:</font>\n",
        "\n",
        "***ANSWER***: As you can see, the mean molecular weight for a completely ionized gas is roughly 1/2 that of a completely neutral gas. The reason for this is because in the ionized case, there are is a higher number of particles that the mass can be distributed amongst. However, in the neutral case, the electrons are bound to the atoms therefore reducing the overall number of available particles."
      ],
      "metadata": {
        "id": "hGLubOpOiMgF"
      }
    },
    {
      "cell_type": "markdown",
      "metadata": {
        "collapsed": false,
        "id": "iLj6xR4tXawb"
      },
      "source": [
        "## 3. At home: What will $\\mu$ be at the center of the Sun once all the H is converted into He?\n",
        "\n",
        "> **TODO**: Make a calulation of the mean molecular weight in the core of the Sun, once all of the hydrogen has been converted into helium (remember, at the surface of the Sun where there is no nuclear reactions: $X$=70%, $Y$=28%, and $Z$=2%)\n",
        ">\n",
        "> You can use the approximations I gave in the last slide of the PDF class notes\n",
        ">\n",
        "> You can use the code cell below as a calculator, or you can do the calculation by hand.\n",
        "\n",
        "\n",
        "At the center of the Sun, let's assume that everything is ionized. \n",
        "\n",
        "I will also assume that the total mass of the hydrogen was converted into the new total mass of helium (which is not exactly true, as a small fraction of that mass get converted into energy!)\n",
        "\n",
        "Therefore Y will become X, and X will become zero."
      ]
    },
    {
      "cell_type": "code",
      "execution_count": 24,
      "metadata": {
        "id": "2FUflwUqXawb",
        "colab": {
          "base_uri": "https://localhost:8080/"
        },
        "outputId": "a3bc63aa-64fd-4acf-85c8-59440155e074"
      },
      "outputs": [
        {
          "output_type": "stream",
          "name": "stdout",
          "text": [
            "The mean molecular weight at the center of the Sun for a completely ionized gas if it is all converted to helium is: 1.3404825737265416 m_H.*\n"
          ]
        }
      ],
      "source": [
        "#---------------------------------------\n",
        "#---------------------------------------\n",
        "# At home\n",
        "x=0\n",
        "y=SolAbundance['X'][0]+SolAbundance['X'][1]\n",
        "\n",
        "mu_ionized=2/(3*x+(y/2)+1)\n",
        "print(\"The mean molecular weight at the center of the Sun for a completely ionized gas if it is all converted to helium is:\",mu_ionized, \"m_H.*\")"
      ]
    },
    {
      "cell_type": "markdown",
      "metadata": {
        "id": "tr11MpuEXawc"
      },
      "source": [
        "> **TODO**: <font color='red'>Please write a small paragraph with an interpretation of the result obtained:</font>\n",
        "\n",
        "Once all the hydrogen in the star has been converted into ionized helium, the mean molecular weight is roughly $1.34m_p$. This number makes sense because the mean molecular weight for ionized hydrogen is roughly $0.6m_p$; which is about half of the $1.34m_p$ value we obtained above. More conceptually, with the absense of all hydrogen, we naturally expect the mean molecular weight to increase since the average mass is higher (even with all the free electrons present). "
      ]
    },
    {
      "cell_type": "markdown",
      "metadata": {
        "id": "qF8MyPgUXawc"
      },
      "source": [
        "## 4. At home: Finally, let's check what the mean molecular weight looks like inside of the sun\n",
        "\n",
        "### a. Let's use the MESA model to look at $\\mu$ as a function of radius inside of the Sun.\n",
        "\n",
        "> **TODO**: Based on the MESA model for the Sun, I provide an array `mu` that contains the mean molecular weight. Create a plot of the mean molecular weight as a function of $r/R_\\star$. The corresponding array for the $r/R_\\star$ is called `r_rs`\n",
        "\n",
        "### b. In the interpretation, explain the shape of the curve\n",
        "\n",
        "You might find it interesting to look at the variation of the temperature `data['logT']` to help you with your interpretation -- you might find it enlightening!\n"
      ]
    },
    {
      "cell_type": "code",
      "execution_count": 13,
      "metadata": {
        "id": "sCboulEAXawc",
        "colab": {
          "base_uri": "https://localhost:8080/",
          "height": 316
        },
        "outputId": "cd68300c-0523-4f1b-bd14-de2fbb3f0acf"
      },
      "outputs": [
        {
          "output_type": "execute_result",
          "data": {
            "text/plain": [
              "Text(0, 0.5, '$\\\\mu_0$')"
            ]
          },
          "metadata": {},
          "execution_count": 13
        },
        {
          "output_type": "display_data",
          "data": {
            "image/png": "[encoded data removed]",
            "text/plain": [
              "<Figure size 432x288 with 1 Axes>"
            ]
          },
          "metadata": {
            "needs_background": "light"
          }
        }
      ],
      "source": [
        "def read_model(file):\n",
        "    # Here's a function that reads it the MESA model.\n",
        "    cols = np.array([1,2,3,4,5,9,29,66])-1\n",
        "    return np.genfromtxt(file, skip_header=5, names=True, usecols = cols)\n",
        "# Reading the model\n",
        "data = read_model('https://raw.githubusercontent.com/veropetit/PHYS633-S2022/main/L05-MeanMolecularWeight/05-MESAdatafile.txt')\n",
        "\n",
        "# Calculating mu using the density (in cgs), the temperature (in K) and the gas pressure \n",
        "mu = 10**data['logRho'] * u.g / u.cm**3 * const.k_B * 10**data['logT'] * u.K / (10**data['logPgas']*u.Ba) / const.u\n",
        "mu = mu.decompose() # Should be unitless.\n",
        "\n",
        "r_rs = 10**(data['logR']-data['logR'][0])\n",
        "\n",
        "#---------------------------------------\n",
        "#---------------------------------------\n",
        "# At home\n",
        "\n",
        "plt.plot(r_rs,mu)\n",
        "plt.title(\"Mean Molecular Weight vs. Radius\")\n",
        "plt.xlabel((r'$R / R_\\odot$'))\n",
        "plt.ylabel(r'$\\mu_0$')"
      ]
    },
    {
      "cell_type": "code",
      "source": [
        "plt.plot(r_rs,data['logT'])\n",
        "plt.title(\"Log Temperature vs. Radius\")\n",
        "plt.ylabel(\"logT\")\n",
        "plt.xlabel(r'$R / R_\\odot$')"
      ],
      "metadata": {
        "colab": {
          "base_uri": "https://localhost:8080/",
          "height": 316
        },
        "id": "8C8I4iP0wakn",
        "outputId": "5e358172-e8ae-4eac-f5be-2a6e5ba0c5ed"
      },
      "execution_count": 14,
      "outputs": [
        {
          "output_type": "execute_result",
          "data": {
            "text/plain": [
              "Text(0.5, 0, '$R / R_\\\\odot$')"
            ]
          },
          "metadata": {},
          "execution_count": 14
        },
        {
          "output_type": "display_data",
          "data": {
            "image/png": "[encoded data removed]",
            "text/plain": [
              "<Figure size 432x288 with 1 Axes>"
            ]
          },
          "metadata": {
            "needs_background": "light"
          }
        }
      ]
    },
    {
      "cell_type": "markdown",
      "metadata": {
        "collapsed": true,
        "id": "SdiewLfPXawd"
      },
      "source": [
        "> **TODO**: <font color='red'>Please write a small paragraph with an interpretation of the result obtained:</font>\n",
        "\n",
        "As shown in the first plot above, the mean molecular weight starts off high at the center of the star. As one moves out, the mean molecular weight decreases down to roughly $0.6m_p$. This arises from the fact that the temperature is also decreaasing as you move outward from the center. Then, at the surface, the temperature drops off quite rapidly causing the mean molecular weight to increase rapidly as we move above the surface into the vacuum."
      ]
    },
    {
      "cell_type": "markdown",
      "source": [
        "## 5. Reading assignment: \"what can we measure about stars\" -- part 3\n",
        "In this graduate course, we are making an advanced physical and mathematical model of star.\n",
        "\n",
        "But it is still good to learn and/or remind ourselves about which physical characteristics of stars we can actually measure. You might have covered some of this in some details in previous physics or astro courses (at UD PHYS 133, 144, 333, or 469) -- but it is still a good idea to have a quick look at the suggested reading below before crafting your paragraph.\n",
        "\n",
        "One other thing that can be measured is the composition of a star's surface.\n",
        "\n",
        "> **TODO**: Have a look at section 5.3 Spectroscopy in Astronomy, 5.4\n",
        "The Structure of the Atom and/or 5.5 Formation of Spectral Lines of the Open Stack Astronomy online [textbook](https://openstax.org/books/astronomy/pages/5-2-the-electromagnetic-spectrum), and write a short conceptual paragraph about how astronomers can determine the composition of stars through spectra. \n",
        "\n",
        "***ANSWER***: As many people know, stars are composed of extremely hot gasses. Being able to determine which gasses make up a star reveal much about its structure, properties, and characteristics. A key tool that is used to analyze these gasses/elements is called spectroscopy. In a very simplistic view, spectroscopy is the study of how light interacts with matter. Therefore, each element has an associated spectra. Astronomers can then use a spectrograph to analyze a star's overall spectrum. From this spectrum, which is considered quasi-\"continuous,\" astronomers can pick out the individual atoms by looking at their unique signatures and comparing them to the overall spectrum."
      ],
      "metadata": {
        "id": "1Ado-P0K9mh3"
      }
    }
  ],
  "metadata": {
    "anaconda-cloud": {},
    "kernelspec": {
      "display_name": "Python [conda root]",
      "language": "python",
      "name": "conda-root-py"
    },
    "language_info": {
      "codemirror_mode": {
        "name": "ipython",
        "version": 3
      },
      "file_extension": ".py",
      "mimetype": "text/x-python",
      "name": "python",
      "nbconvert_exporter": "python",
      "pygments_lexer": "ipython3",
      "version": "3.5.2"
    },
    "colab": {
      "name": "Hilligoss_Dylan_05-MeanMolecularWeight.ipynb",
      "provenance": [],
      "collapsed_sections": []
    }
  },
  "nbformat": 4,
  "nbformat_minor": 0
}